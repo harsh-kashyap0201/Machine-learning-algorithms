{
 "cells": [
  {
   "cell_type": "markdown",
   "metadata": {
    "_cell_guid": "b1076dfc-b9ad-4769-8c92-a6c4dae69d19",
    "_uuid": "8f2839f25d086af736a60e9eeb907d3b93b6e0e5",
    "papermill": {
     "duration": 0.044827,
     "end_time": "2021-01-22T08:15:32.553483",
     "exception": false,
     "start_time": "2021-01-22T08:15:32.508656",
     "status": "completed"
    },
    "tags": []
   },
   "source": [
    "# Decision Trees(hard-code)"
   ]
  },
  {
   "cell_type": "code",
   "execution_count": 269,
   "metadata": {
    "execution": {
     "iopub.execute_input": "2021-01-22T08:15:32.734768Z",
     "iopub.status.busy": "2021-01-22T08:15:32.734079Z",
     "iopub.status.idle": "2021-01-22T08:15:32.768253Z",
     "shell.execute_reply": "2021-01-22T08:15:32.768766Z"
    },
    "papermill": {
     "duration": 0.086936,
     "end_time": "2021-01-22T08:15:32.768921",
     "exception": false,
     "start_time": "2021-01-22T08:15:32.681985",
     "status": "completed"
    },
    "tags": []
   },
   "outputs": [
    {
     "data": {
      "text/html": [
       "<div>\n",
       "<style scoped>\n",
       "    .dataframe tbody tr th:only-of-type {\n",
       "        vertical-align: middle;\n",
       "    }\n",
       "\n",
       "    .dataframe tbody tr th {\n",
       "        vertical-align: top;\n",
       "    }\n",
       "\n",
       "    .dataframe thead th {\n",
       "        text-align: right;\n",
       "    }\n",
       "</style>\n",
       "<table border=\"1\" class=\"dataframe\">\n",
       "  <thead>\n",
       "    <tr style=\"text-align: right;\">\n",
       "      <th></th>\n",
       "      <th>day</th>\n",
       "      <th>outlook</th>\n",
       "      <th>temp</th>\n",
       "      <th>humidity</th>\n",
       "      <th>wind</th>\n",
       "      <th>play</th>\n",
       "    </tr>\n",
       "  </thead>\n",
       "  <tbody>\n",
       "    <tr>\n",
       "      <th>0</th>\n",
       "      <td>D1</td>\n",
       "      <td>Sunny</td>\n",
       "      <td>Hot</td>\n",
       "      <td>High</td>\n",
       "      <td>Weak</td>\n",
       "      <td>No</td>\n",
       "    </tr>\n",
       "    <tr>\n",
       "      <th>1</th>\n",
       "      <td>D2</td>\n",
       "      <td>Sunny</td>\n",
       "      <td>Hot</td>\n",
       "      <td>High</td>\n",
       "      <td>Strong</td>\n",
       "      <td>No</td>\n",
       "    </tr>\n",
       "    <tr>\n",
       "      <th>2</th>\n",
       "      <td>D3</td>\n",
       "      <td>Overcast</td>\n",
       "      <td>Hot</td>\n",
       "      <td>High</td>\n",
       "      <td>Weak</td>\n",
       "      <td>Yes</td>\n",
       "    </tr>\n",
       "    <tr>\n",
       "      <th>3</th>\n",
       "      <td>D4</td>\n",
       "      <td>Rain</td>\n",
       "      <td>Mild</td>\n",
       "      <td>High</td>\n",
       "      <td>Weak</td>\n",
       "      <td>Yes</td>\n",
       "    </tr>\n",
       "    <tr>\n",
       "      <th>4</th>\n",
       "      <td>D5</td>\n",
       "      <td>Rain</td>\n",
       "      <td>Cool</td>\n",
       "      <td>Normal</td>\n",
       "      <td>Weak</td>\n",
       "      <td>Yes</td>\n",
       "    </tr>\n",
       "    <tr>\n",
       "      <th>5</th>\n",
       "      <td>D6</td>\n",
       "      <td>Rain</td>\n",
       "      <td>Cool</td>\n",
       "      <td>Normal</td>\n",
       "      <td>Strong</td>\n",
       "      <td>No</td>\n",
       "    </tr>\n",
       "    <tr>\n",
       "      <th>6</th>\n",
       "      <td>D7</td>\n",
       "      <td>Overcast</td>\n",
       "      <td>Cool</td>\n",
       "      <td>Normal</td>\n",
       "      <td>Strong</td>\n",
       "      <td>Yes</td>\n",
       "    </tr>\n",
       "    <tr>\n",
       "      <th>7</th>\n",
       "      <td>D8</td>\n",
       "      <td>Sunny</td>\n",
       "      <td>Mild</td>\n",
       "      <td>High</td>\n",
       "      <td>Weak</td>\n",
       "      <td>No</td>\n",
       "    </tr>\n",
       "    <tr>\n",
       "      <th>8</th>\n",
       "      <td>D9</td>\n",
       "      <td>Sunny</td>\n",
       "      <td>Cool</td>\n",
       "      <td>Normal</td>\n",
       "      <td>Weak</td>\n",
       "      <td>Yes</td>\n",
       "    </tr>\n",
       "    <tr>\n",
       "      <th>9</th>\n",
       "      <td>D10</td>\n",
       "      <td>Rain</td>\n",
       "      <td>Mild</td>\n",
       "      <td>Normal</td>\n",
       "      <td>Weak</td>\n",
       "      <td>Yes</td>\n",
       "    </tr>\n",
       "    <tr>\n",
       "      <th>10</th>\n",
       "      <td>D11</td>\n",
       "      <td>Sunny</td>\n",
       "      <td>Mild</td>\n",
       "      <td>Normal</td>\n",
       "      <td>Strong</td>\n",
       "      <td>Yes</td>\n",
       "    </tr>\n",
       "    <tr>\n",
       "      <th>11</th>\n",
       "      <td>D12</td>\n",
       "      <td>Overcast</td>\n",
       "      <td>Mild</td>\n",
       "      <td>High</td>\n",
       "      <td>Strong</td>\n",
       "      <td>Yes</td>\n",
       "    </tr>\n",
       "    <tr>\n",
       "      <th>12</th>\n",
       "      <td>D13</td>\n",
       "      <td>Overcast</td>\n",
       "      <td>Hot</td>\n",
       "      <td>Normal</td>\n",
       "      <td>Weak</td>\n",
       "      <td>Yes</td>\n",
       "    </tr>\n",
       "    <tr>\n",
       "      <th>13</th>\n",
       "      <td>D14</td>\n",
       "      <td>Rain</td>\n",
       "      <td>Mild</td>\n",
       "      <td>High</td>\n",
       "      <td>Strong</td>\n",
       "      <td>No</td>\n",
       "    </tr>\n",
       "  </tbody>\n",
       "</table>\n",
       "</div>"
      ],
      "text/plain": [
       "    day   outlook  temp humidity    wind play\n",
       "0    D1     Sunny   Hot     High    Weak   No\n",
       "1    D2     Sunny   Hot     High  Strong   No\n",
       "2    D3  Overcast   Hot     High    Weak  Yes\n",
       "3    D4      Rain  Mild     High    Weak  Yes\n",
       "4    D5      Rain  Cool   Normal    Weak  Yes\n",
       "5    D6      Rain  Cool   Normal  Strong   No\n",
       "6    D7  Overcast  Cool   Normal  Strong  Yes\n",
       "7    D8     Sunny  Mild     High    Weak   No\n",
       "8    D9     Sunny  Cool   Normal    Weak  Yes\n",
       "9   D10      Rain  Mild   Normal    Weak  Yes\n",
       "10  D11     Sunny  Mild   Normal  Strong  Yes\n",
       "11  D12  Overcast  Mild     High  Strong  Yes\n",
       "12  D13  Overcast   Hot   Normal    Weak  Yes\n",
       "13  D14      Rain  Mild     High  Strong   No"
      ]
     },
     "execution_count": 269,
     "metadata": {},
     "output_type": "execute_result"
    }
   ],
   "source": [
    "import numpy as np\n",
    "import pandas as pd\n",
    "df = pd.read_csv('D:\\Downloads\\play_tennis.csv')\n",
    "df"
   ]
  },
  {
   "cell_type": "markdown",
   "metadata": {},
   "source": [
    "## function to calculate entropy"
   ]
  },
  {
   "cell_type": "code",
   "execution_count": 270,
   "metadata": {
    "execution": {
     "iopub.execute_input": "2021-01-22T08:15:34.293462Z",
     "iopub.status.busy": "2021-01-22T08:15:34.292454Z",
     "iopub.status.idle": "2021-01-22T08:15:34.302975Z",
     "shell.execute_reply": "2021-01-22T08:15:34.303510Z"
    },
    "papermill": {
     "duration": 0.059743,
     "end_time": "2021-01-22T08:15:34.303650",
     "exception": false,
     "start_time": "2021-01-22T08:15:34.243907",
     "status": "completed"
    },
    "tags": []
   },
   "outputs": [],
   "source": [
    "import math\n",
    "def calculate_entropy(df,target,feature='None',value='None'):\n",
    "    value_array,loop_var=df[target].unique(),len(df[target].unique())\n",
    "    Entropy=0\n",
    "    if feature=='None':\n",
    "        for i in range(0,loop_var):\n",
    "            prob = len(df[df[target]==value_array[i]])/len(df)\n",
    "            if prob!=0:\n",
    "                Entropy +=  (-prob * (math.log(prob,2)))\n",
    "    else:\n",
    "        df = df[df[feature]==value]\n",
    "        for i in range(0,loop_var):\n",
    "            val=len(df)\n",
    "            if val==0:\n",
    "                val=1\n",
    "            prob = len(df[df[target]==value_array[i]])/val\n",
    "            if prob!=0:\n",
    "                Entropy += (-prob * (math.log(prob,2)))\n",
    "            \n",
    "    return Entropy"
   ]
  },
  {
   "cell_type": "markdown",
   "metadata": {},
   "source": [
    "## entropy s"
   ]
  },
  {
   "cell_type": "code",
   "execution_count": 271,
   "metadata": {
    "execution": {
     "iopub.execute_input": "2021-01-22T08:15:34.395388Z",
     "iopub.status.busy": "2021-01-22T08:15:34.394363Z",
     "iopub.status.idle": "2021-01-22T08:15:34.401110Z",
     "shell.execute_reply": "2021-01-22T08:15:34.401627Z"
    },
    "papermill": {
     "duration": 0.054013,
     "end_time": "2021-01-22T08:15:34.401743",
     "exception": false,
     "start_time": "2021-01-22T08:15:34.347730",
     "status": "completed"
    },
    "tags": []
   },
   "outputs": [
    {
     "data": {
      "text/plain": [
       "0.9402859586706309"
      ]
     },
     "execution_count": 271,
     "metadata": {},
     "output_type": "execute_result"
    }
   ],
   "source": [
    "calculate_entropy(df,'play')"
   ]
  },
  {
   "cell_type": "markdown",
   "metadata": {
    "papermill": {
     "duration": 0.04384,
     "end_time": "2021-01-22T08:15:34.670484",
     "exception": false,
     "start_time": "2021-01-22T08:15:34.626644",
     "status": "completed"
    },
    "tags": []
   },
   "source": [
    "## gain(s,outlook)"
   ]
  },
  {
   "cell_type": "code",
   "execution_count": 272,
   "metadata": {
    "execution": {
     "iopub.execute_input": "2021-01-22T08:15:34.760945Z",
     "iopub.status.busy": "2021-01-22T08:15:34.760046Z",
     "iopub.status.idle": "2021-01-22T08:15:34.767383Z",
     "shell.execute_reply": "2021-01-22T08:15:34.767890Z"
    },
    "papermill": {
     "duration": 0.054003,
     "end_time": "2021-01-22T08:15:34.768007",
     "exception": false,
     "start_time": "2021-01-22T08:15:34.714004",
     "status": "completed"
    },
    "tags": []
   },
   "outputs": [
    {
     "data": {
      "text/plain": [
       "Sunny       5\n",
       "Rain        5\n",
       "Overcast    4\n",
       "Name: outlook, dtype: int64"
      ]
     },
     "execution_count": 272,
     "metadata": {},
     "output_type": "execute_result"
    }
   ],
   "source": [
    "df['outlook'].value_counts()"
   ]
  },
  {
   "cell_type": "code",
   "execution_count": 273,
   "metadata": {
    "execution": {
     "iopub.execute_input": "2021-01-22T08:15:34.867656Z",
     "iopub.status.busy": "2021-01-22T08:15:34.866628Z",
     "iopub.status.idle": "2021-01-22T08:15:34.881030Z",
     "shell.execute_reply": "2021-01-22T08:15:34.881632Z"
    },
    "papermill": {
     "duration": 0.069143,
     "end_time": "2021-01-22T08:15:34.881795",
     "exception": false,
     "start_time": "2021-01-22T08:15:34.812652",
     "status": "completed"
    },
    "tags": []
   },
   "outputs": [
    {
     "data": {
      "text/html": [
       "<div>\n",
       "<style scoped>\n",
       "    .dataframe tbody tr th:only-of-type {\n",
       "        vertical-align: middle;\n",
       "    }\n",
       "\n",
       "    .dataframe tbody tr th {\n",
       "        vertical-align: top;\n",
       "    }\n",
       "\n",
       "    .dataframe thead th {\n",
       "        text-align: right;\n",
       "    }\n",
       "</style>\n",
       "<table border=\"1\" class=\"dataframe\">\n",
       "  <thead>\n",
       "    <tr style=\"text-align: right;\">\n",
       "      <th></th>\n",
       "      <th>day</th>\n",
       "      <th>outlook</th>\n",
       "      <th>temp</th>\n",
       "      <th>humidity</th>\n",
       "      <th>wind</th>\n",
       "      <th>play</th>\n",
       "    </tr>\n",
       "  </thead>\n",
       "  <tbody>\n",
       "    <tr>\n",
       "      <th>0</th>\n",
       "      <td>D1</td>\n",
       "      <td>Sunny</td>\n",
       "      <td>Hot</td>\n",
       "      <td>High</td>\n",
       "      <td>Weak</td>\n",
       "      <td>No</td>\n",
       "    </tr>\n",
       "    <tr>\n",
       "      <th>1</th>\n",
       "      <td>D2</td>\n",
       "      <td>Sunny</td>\n",
       "      <td>Hot</td>\n",
       "      <td>High</td>\n",
       "      <td>Strong</td>\n",
       "      <td>No</td>\n",
       "    </tr>\n",
       "    <tr>\n",
       "      <th>7</th>\n",
       "      <td>D8</td>\n",
       "      <td>Sunny</td>\n",
       "      <td>Mild</td>\n",
       "      <td>High</td>\n",
       "      <td>Weak</td>\n",
       "      <td>No</td>\n",
       "    </tr>\n",
       "    <tr>\n",
       "      <th>8</th>\n",
       "      <td>D9</td>\n",
       "      <td>Sunny</td>\n",
       "      <td>Cool</td>\n",
       "      <td>Normal</td>\n",
       "      <td>Weak</td>\n",
       "      <td>Yes</td>\n",
       "    </tr>\n",
       "    <tr>\n",
       "      <th>10</th>\n",
       "      <td>D11</td>\n",
       "      <td>Sunny</td>\n",
       "      <td>Mild</td>\n",
       "      <td>Normal</td>\n",
       "      <td>Strong</td>\n",
       "      <td>Yes</td>\n",
       "    </tr>\n",
       "  </tbody>\n",
       "</table>\n",
       "</div>"
      ],
      "text/plain": [
       "    day outlook  temp humidity    wind play\n",
       "0    D1   Sunny   Hot     High    Weak   No\n",
       "1    D2   Sunny   Hot     High  Strong   No\n",
       "7    D8   Sunny  Mild     High    Weak   No\n",
       "8    D9   Sunny  Cool   Normal    Weak  Yes\n",
       "10  D11   Sunny  Mild   Normal  Strong  Yes"
      ]
     },
     "execution_count": 273,
     "metadata": {},
     "output_type": "execute_result"
    }
   ],
   "source": [
    "df[df['outlook']=='Sunny']\n",
    "\n"
   ]
  },
  {
   "cell_type": "code",
   "execution_count": 274,
   "metadata": {
    "execution": {
     "iopub.execute_input": "2021-01-22T08:15:34.982806Z",
     "iopub.status.busy": "2021-01-22T08:15:34.981865Z",
     "iopub.status.idle": "2021-01-22T08:15:34.994739Z",
     "shell.execute_reply": "2021-01-22T08:15:34.995358Z"
    },
    "papermill": {
     "duration": 0.063717,
     "end_time": "2021-01-22T08:15:34.995498",
     "exception": false,
     "start_time": "2021-01-22T08:15:34.931781",
     "status": "completed"
    },
    "tags": []
   },
   "outputs": [
    {
     "data": {
      "text/html": [
       "<div>\n",
       "<style scoped>\n",
       "    .dataframe tbody tr th:only-of-type {\n",
       "        vertical-align: middle;\n",
       "    }\n",
       "\n",
       "    .dataframe tbody tr th {\n",
       "        vertical-align: top;\n",
       "    }\n",
       "\n",
       "    .dataframe thead th {\n",
       "        text-align: right;\n",
       "    }\n",
       "</style>\n",
       "<table border=\"1\" class=\"dataframe\">\n",
       "  <thead>\n",
       "    <tr style=\"text-align: right;\">\n",
       "      <th></th>\n",
       "      <th>day</th>\n",
       "      <th>outlook</th>\n",
       "      <th>temp</th>\n",
       "      <th>humidity</th>\n",
       "      <th>wind</th>\n",
       "      <th>play</th>\n",
       "    </tr>\n",
       "  </thead>\n",
       "  <tbody>\n",
       "    <tr>\n",
       "      <th>2</th>\n",
       "      <td>D3</td>\n",
       "      <td>Overcast</td>\n",
       "      <td>Hot</td>\n",
       "      <td>High</td>\n",
       "      <td>Weak</td>\n",
       "      <td>Yes</td>\n",
       "    </tr>\n",
       "    <tr>\n",
       "      <th>6</th>\n",
       "      <td>D7</td>\n",
       "      <td>Overcast</td>\n",
       "      <td>Cool</td>\n",
       "      <td>Normal</td>\n",
       "      <td>Strong</td>\n",
       "      <td>Yes</td>\n",
       "    </tr>\n",
       "    <tr>\n",
       "      <th>11</th>\n",
       "      <td>D12</td>\n",
       "      <td>Overcast</td>\n",
       "      <td>Mild</td>\n",
       "      <td>High</td>\n",
       "      <td>Strong</td>\n",
       "      <td>Yes</td>\n",
       "    </tr>\n",
       "    <tr>\n",
       "      <th>12</th>\n",
       "      <td>D13</td>\n",
       "      <td>Overcast</td>\n",
       "      <td>Hot</td>\n",
       "      <td>Normal</td>\n",
       "      <td>Weak</td>\n",
       "      <td>Yes</td>\n",
       "    </tr>\n",
       "  </tbody>\n",
       "</table>\n",
       "</div>"
      ],
      "text/plain": [
       "    day   outlook  temp humidity    wind play\n",
       "2    D3  Overcast   Hot     High    Weak  Yes\n",
       "6    D7  Overcast  Cool   Normal  Strong  Yes\n",
       "11  D12  Overcast  Mild     High  Strong  Yes\n",
       "12  D13  Overcast   Hot   Normal    Weak  Yes"
      ]
     },
     "execution_count": 274,
     "metadata": {},
     "output_type": "execute_result"
    }
   ],
   "source": [
    "df[df['outlook']=='Overcast']\n"
   ]
  },
  {
   "cell_type": "code",
   "execution_count": 275,
   "metadata": {
    "execution": {
     "iopub.execute_input": "2021-01-22T08:15:35.093600Z",
     "iopub.status.busy": "2021-01-22T08:15:35.092622Z",
     "iopub.status.idle": "2021-01-22T08:15:35.105410Z",
     "shell.execute_reply": "2021-01-22T08:15:35.105936Z"
    },
    "papermill": {
     "duration": 0.063758,
     "end_time": "2021-01-22T08:15:35.106062",
     "exception": false,
     "start_time": "2021-01-22T08:15:35.042304",
     "status": "completed"
    },
    "tags": []
   },
   "outputs": [
    {
     "data": {
      "text/html": [
       "<div>\n",
       "<style scoped>\n",
       "    .dataframe tbody tr th:only-of-type {\n",
       "        vertical-align: middle;\n",
       "    }\n",
       "\n",
       "    .dataframe tbody tr th {\n",
       "        vertical-align: top;\n",
       "    }\n",
       "\n",
       "    .dataframe thead th {\n",
       "        text-align: right;\n",
       "    }\n",
       "</style>\n",
       "<table border=\"1\" class=\"dataframe\">\n",
       "  <thead>\n",
       "    <tr style=\"text-align: right;\">\n",
       "      <th></th>\n",
       "      <th>day</th>\n",
       "      <th>outlook</th>\n",
       "      <th>temp</th>\n",
       "      <th>humidity</th>\n",
       "      <th>wind</th>\n",
       "      <th>play</th>\n",
       "    </tr>\n",
       "  </thead>\n",
       "  <tbody>\n",
       "    <tr>\n",
       "      <th>3</th>\n",
       "      <td>D4</td>\n",
       "      <td>Rain</td>\n",
       "      <td>Mild</td>\n",
       "      <td>High</td>\n",
       "      <td>Weak</td>\n",
       "      <td>Yes</td>\n",
       "    </tr>\n",
       "    <tr>\n",
       "      <th>4</th>\n",
       "      <td>D5</td>\n",
       "      <td>Rain</td>\n",
       "      <td>Cool</td>\n",
       "      <td>Normal</td>\n",
       "      <td>Weak</td>\n",
       "      <td>Yes</td>\n",
       "    </tr>\n",
       "    <tr>\n",
       "      <th>5</th>\n",
       "      <td>D6</td>\n",
       "      <td>Rain</td>\n",
       "      <td>Cool</td>\n",
       "      <td>Normal</td>\n",
       "      <td>Strong</td>\n",
       "      <td>No</td>\n",
       "    </tr>\n",
       "    <tr>\n",
       "      <th>9</th>\n",
       "      <td>D10</td>\n",
       "      <td>Rain</td>\n",
       "      <td>Mild</td>\n",
       "      <td>Normal</td>\n",
       "      <td>Weak</td>\n",
       "      <td>Yes</td>\n",
       "    </tr>\n",
       "    <tr>\n",
       "      <th>13</th>\n",
       "      <td>D14</td>\n",
       "      <td>Rain</td>\n",
       "      <td>Mild</td>\n",
       "      <td>High</td>\n",
       "      <td>Strong</td>\n",
       "      <td>No</td>\n",
       "    </tr>\n",
       "  </tbody>\n",
       "</table>\n",
       "</div>"
      ],
      "text/plain": [
       "    day outlook  temp humidity    wind play\n",
       "3    D4    Rain  Mild     High    Weak  Yes\n",
       "4    D5    Rain  Cool   Normal    Weak  Yes\n",
       "5    D6    Rain  Cool   Normal  Strong   No\n",
       "9   D10    Rain  Mild   Normal    Weak  Yes\n",
       "13  D14    Rain  Mild     High  Strong   No"
      ]
     },
     "execution_count": 275,
     "metadata": {},
     "output_type": "execute_result"
    }
   ],
   "source": [
    "df[df['outlook']=='Rain']"
   ]
  },
  {
   "cell_type": "markdown",
   "metadata": {},
   "source": [
    "## gain(s,outlook)=entropy(s)-(entropy(s,sunny),entropy(s,overcast),entropy(s,rain))"
   ]
  },
  {
   "cell_type": "code",
   "execution_count": 276,
   "metadata": {
    "execution": {
     "iopub.execute_input": "2021-01-22T08:15:35.205871Z",
     "iopub.status.busy": "2021-01-22T08:15:35.204906Z",
     "iopub.status.idle": "2021-01-22T08:15:35.219045Z",
     "shell.execute_reply": "2021-01-22T08:15:35.219593Z"
    },
    "papermill": {
     "duration": 0.066495,
     "end_time": "2021-01-22T08:15:35.219716",
     "exception": false,
     "start_time": "2021-01-22T08:15:35.153221",
     "status": "completed"
    },
    "tags": []
   },
   "outputs": [
    {
     "data": {
      "text/plain": [
       "0.2467498197744391"
      ]
     },
     "execution_count": 276,
     "metadata": {},
     "output_type": "execute_result"
    }
   ],
   "source": [
    "IG_Outlook = calculate_entropy(df,'play') - ((len(df[df['outlook']=='Sunny'])/len(df))*calculate_entropy(df,'play','outlook','Sunny')\n",
    "                                          + (len(df[df['outlook']=='Overcast'])/len(df))*calculate_entropy(df,'play','outlook','Overcast')\n",
    "                                          +(len(df[df['outlook']=='Rain'])/len(df))*calculate_entropy(df,'play','outlook','Rain'))\n",
    "\n",
    "IG_Outlook"
   ]
  },
  {
   "cell_type": "markdown",
   "metadata": {
    "papermill": {
     "duration": 0.049968,
     "end_time": "2021-01-22T08:15:35.317142",
     "exception": false,
     "start_time": "2021-01-22T08:15:35.267174",
     "status": "completed"
    },
    "tags": []
   },
   "source": [
    "## gain(s,temp)"
   ]
  },
  {
   "cell_type": "code",
   "execution_count": 277,
   "metadata": {
    "execution": {
     "iopub.execute_input": "2021-01-22T08:15:35.422056Z",
     "iopub.status.busy": "2021-01-22T08:15:35.421031Z",
     "iopub.status.idle": "2021-01-22T08:15:35.428440Z",
     "shell.execute_reply": "2021-01-22T08:15:35.428959Z"
    },
    "papermill": {
     "duration": 0.061485,
     "end_time": "2021-01-22T08:15:35.429083",
     "exception": false,
     "start_time": "2021-01-22T08:15:35.367598",
     "status": "completed"
    },
    "tags": []
   },
   "outputs": [
    {
     "data": {
      "text/plain": [
       "Mild    6\n",
       "Hot     4\n",
       "Cool    4\n",
       "Name: temp, dtype: int64"
      ]
     },
     "execution_count": 277,
     "metadata": {},
     "output_type": "execute_result"
    }
   ],
   "source": [
    "df['temp'].value_counts()"
   ]
  },
  {
   "cell_type": "code",
   "execution_count": 278,
   "metadata": {
    "execution": {
     "iopub.execute_input": "2021-01-22T08:15:35.536170Z",
     "iopub.status.busy": "2021-01-22T08:15:35.535198Z",
     "iopub.status.idle": "2021-01-22T08:15:35.548747Z",
     "shell.execute_reply": "2021-01-22T08:15:35.549390Z"
    },
    "papermill": {
     "duration": 0.068707,
     "end_time": "2021-01-22T08:15:35.549559",
     "exception": false,
     "start_time": "2021-01-22T08:15:35.480852",
     "status": "completed"
    },
    "tags": []
   },
   "outputs": [
    {
     "data": {
      "text/html": [
       "<div>\n",
       "<style scoped>\n",
       "    .dataframe tbody tr th:only-of-type {\n",
       "        vertical-align: middle;\n",
       "    }\n",
       "\n",
       "    .dataframe tbody tr th {\n",
       "        vertical-align: top;\n",
       "    }\n",
       "\n",
       "    .dataframe thead th {\n",
       "        text-align: right;\n",
       "    }\n",
       "</style>\n",
       "<table border=\"1\" class=\"dataframe\">\n",
       "  <thead>\n",
       "    <tr style=\"text-align: right;\">\n",
       "      <th></th>\n",
       "      <th>day</th>\n",
       "      <th>outlook</th>\n",
       "      <th>temp</th>\n",
       "      <th>humidity</th>\n",
       "      <th>wind</th>\n",
       "      <th>play</th>\n",
       "    </tr>\n",
       "  </thead>\n",
       "  <tbody>\n",
       "    <tr>\n",
       "      <th>3</th>\n",
       "      <td>D4</td>\n",
       "      <td>Rain</td>\n",
       "      <td>Mild</td>\n",
       "      <td>High</td>\n",
       "      <td>Weak</td>\n",
       "      <td>Yes</td>\n",
       "    </tr>\n",
       "    <tr>\n",
       "      <th>7</th>\n",
       "      <td>D8</td>\n",
       "      <td>Sunny</td>\n",
       "      <td>Mild</td>\n",
       "      <td>High</td>\n",
       "      <td>Weak</td>\n",
       "      <td>No</td>\n",
       "    </tr>\n",
       "    <tr>\n",
       "      <th>9</th>\n",
       "      <td>D10</td>\n",
       "      <td>Rain</td>\n",
       "      <td>Mild</td>\n",
       "      <td>Normal</td>\n",
       "      <td>Weak</td>\n",
       "      <td>Yes</td>\n",
       "    </tr>\n",
       "    <tr>\n",
       "      <th>10</th>\n",
       "      <td>D11</td>\n",
       "      <td>Sunny</td>\n",
       "      <td>Mild</td>\n",
       "      <td>Normal</td>\n",
       "      <td>Strong</td>\n",
       "      <td>Yes</td>\n",
       "    </tr>\n",
       "    <tr>\n",
       "      <th>11</th>\n",
       "      <td>D12</td>\n",
       "      <td>Overcast</td>\n",
       "      <td>Mild</td>\n",
       "      <td>High</td>\n",
       "      <td>Strong</td>\n",
       "      <td>Yes</td>\n",
       "    </tr>\n",
       "    <tr>\n",
       "      <th>13</th>\n",
       "      <td>D14</td>\n",
       "      <td>Rain</td>\n",
       "      <td>Mild</td>\n",
       "      <td>High</td>\n",
       "      <td>Strong</td>\n",
       "      <td>No</td>\n",
       "    </tr>\n",
       "  </tbody>\n",
       "</table>\n",
       "</div>"
      ],
      "text/plain": [
       "    day   outlook  temp humidity    wind play\n",
       "3    D4      Rain  Mild     High    Weak  Yes\n",
       "7    D8     Sunny  Mild     High    Weak   No\n",
       "9   D10      Rain  Mild   Normal    Weak  Yes\n",
       "10  D11     Sunny  Mild   Normal  Strong  Yes\n",
       "11  D12  Overcast  Mild     High  Strong  Yes\n",
       "13  D14      Rain  Mild     High  Strong   No"
      ]
     },
     "execution_count": 278,
     "metadata": {},
     "output_type": "execute_result"
    }
   ],
   "source": [
    "df[df['temp']=='Mild']"
   ]
  },
  {
   "cell_type": "code",
   "execution_count": 279,
   "metadata": {
    "execution": {
     "iopub.execute_input": "2021-01-22T08:15:35.658551Z",
     "iopub.status.busy": "2021-01-22T08:15:35.657601Z",
     "iopub.status.idle": "2021-01-22T08:15:35.669876Z",
     "shell.execute_reply": "2021-01-22T08:15:35.670425Z"
    },
    "papermill": {
     "duration": 0.066117,
     "end_time": "2021-01-22T08:15:35.670549",
     "exception": false,
     "start_time": "2021-01-22T08:15:35.604432",
     "status": "completed"
    },
    "tags": []
   },
   "outputs": [
    {
     "data": {
      "text/html": [
       "<div>\n",
       "<style scoped>\n",
       "    .dataframe tbody tr th:only-of-type {\n",
       "        vertical-align: middle;\n",
       "    }\n",
       "\n",
       "    .dataframe tbody tr th {\n",
       "        vertical-align: top;\n",
       "    }\n",
       "\n",
       "    .dataframe thead th {\n",
       "        text-align: right;\n",
       "    }\n",
       "</style>\n",
       "<table border=\"1\" class=\"dataframe\">\n",
       "  <thead>\n",
       "    <tr style=\"text-align: right;\">\n",
       "      <th></th>\n",
       "      <th>day</th>\n",
       "      <th>outlook</th>\n",
       "      <th>temp</th>\n",
       "      <th>humidity</th>\n",
       "      <th>wind</th>\n",
       "      <th>play</th>\n",
       "    </tr>\n",
       "  </thead>\n",
       "  <tbody>\n",
       "    <tr>\n",
       "      <th>4</th>\n",
       "      <td>D5</td>\n",
       "      <td>Rain</td>\n",
       "      <td>Cool</td>\n",
       "      <td>Normal</td>\n",
       "      <td>Weak</td>\n",
       "      <td>Yes</td>\n",
       "    </tr>\n",
       "    <tr>\n",
       "      <th>5</th>\n",
       "      <td>D6</td>\n",
       "      <td>Rain</td>\n",
       "      <td>Cool</td>\n",
       "      <td>Normal</td>\n",
       "      <td>Strong</td>\n",
       "      <td>No</td>\n",
       "    </tr>\n",
       "    <tr>\n",
       "      <th>6</th>\n",
       "      <td>D7</td>\n",
       "      <td>Overcast</td>\n",
       "      <td>Cool</td>\n",
       "      <td>Normal</td>\n",
       "      <td>Strong</td>\n",
       "      <td>Yes</td>\n",
       "    </tr>\n",
       "    <tr>\n",
       "      <th>8</th>\n",
       "      <td>D9</td>\n",
       "      <td>Sunny</td>\n",
       "      <td>Cool</td>\n",
       "      <td>Normal</td>\n",
       "      <td>Weak</td>\n",
       "      <td>Yes</td>\n",
       "    </tr>\n",
       "  </tbody>\n",
       "</table>\n",
       "</div>"
      ],
      "text/plain": [
       "  day   outlook  temp humidity    wind play\n",
       "4  D5      Rain  Cool   Normal    Weak  Yes\n",
       "5  D6      Rain  Cool   Normal  Strong   No\n",
       "6  D7  Overcast  Cool   Normal  Strong  Yes\n",
       "8  D9     Sunny  Cool   Normal    Weak  Yes"
      ]
     },
     "execution_count": 279,
     "metadata": {},
     "output_type": "execute_result"
    }
   ],
   "source": [
    "df[df['temp']=='Cool']"
   ]
  },
  {
   "cell_type": "code",
   "execution_count": 280,
   "metadata": {
    "execution": {
     "iopub.execute_input": "2021-01-22T08:15:35.773433Z",
     "iopub.status.busy": "2021-01-22T08:15:35.772514Z",
     "iopub.status.idle": "2021-01-22T08:15:35.785908Z",
     "shell.execute_reply": "2021-01-22T08:15:35.786459Z"
    },
    "papermill": {
     "duration": 0.066216,
     "end_time": "2021-01-22T08:15:35.786585",
     "exception": false,
     "start_time": "2021-01-22T08:15:35.720369",
     "status": "completed"
    },
    "tags": []
   },
   "outputs": [
    {
     "data": {
      "text/html": [
       "<div>\n",
       "<style scoped>\n",
       "    .dataframe tbody tr th:only-of-type {\n",
       "        vertical-align: middle;\n",
       "    }\n",
       "\n",
       "    .dataframe tbody tr th {\n",
       "        vertical-align: top;\n",
       "    }\n",
       "\n",
       "    .dataframe thead th {\n",
       "        text-align: right;\n",
       "    }\n",
       "</style>\n",
       "<table border=\"1\" class=\"dataframe\">\n",
       "  <thead>\n",
       "    <tr style=\"text-align: right;\">\n",
       "      <th></th>\n",
       "      <th>day</th>\n",
       "      <th>outlook</th>\n",
       "      <th>temp</th>\n",
       "      <th>humidity</th>\n",
       "      <th>wind</th>\n",
       "      <th>play</th>\n",
       "    </tr>\n",
       "  </thead>\n",
       "  <tbody>\n",
       "    <tr>\n",
       "      <th>0</th>\n",
       "      <td>D1</td>\n",
       "      <td>Sunny</td>\n",
       "      <td>Hot</td>\n",
       "      <td>High</td>\n",
       "      <td>Weak</td>\n",
       "      <td>No</td>\n",
       "    </tr>\n",
       "    <tr>\n",
       "      <th>1</th>\n",
       "      <td>D2</td>\n",
       "      <td>Sunny</td>\n",
       "      <td>Hot</td>\n",
       "      <td>High</td>\n",
       "      <td>Strong</td>\n",
       "      <td>No</td>\n",
       "    </tr>\n",
       "    <tr>\n",
       "      <th>2</th>\n",
       "      <td>D3</td>\n",
       "      <td>Overcast</td>\n",
       "      <td>Hot</td>\n",
       "      <td>High</td>\n",
       "      <td>Weak</td>\n",
       "      <td>Yes</td>\n",
       "    </tr>\n",
       "    <tr>\n",
       "      <th>12</th>\n",
       "      <td>D13</td>\n",
       "      <td>Overcast</td>\n",
       "      <td>Hot</td>\n",
       "      <td>Normal</td>\n",
       "      <td>Weak</td>\n",
       "      <td>Yes</td>\n",
       "    </tr>\n",
       "  </tbody>\n",
       "</table>\n",
       "</div>"
      ],
      "text/plain": [
       "    day   outlook temp humidity    wind play\n",
       "0    D1     Sunny  Hot     High    Weak   No\n",
       "1    D2     Sunny  Hot     High  Strong   No\n",
       "2    D3  Overcast  Hot     High    Weak  Yes\n",
       "12  D13  Overcast  Hot   Normal    Weak  Yes"
      ]
     },
     "execution_count": 280,
     "metadata": {},
     "output_type": "execute_result"
    }
   ],
   "source": [
    "df[df['temp']=='Hot']"
   ]
  },
  {
   "cell_type": "code",
   "execution_count": 281,
   "metadata": {
    "execution": {
     "iopub.execute_input": "2021-01-22T08:15:35.890612Z",
     "iopub.status.busy": "2021-01-22T08:15:35.889714Z",
     "iopub.status.idle": "2021-01-22T08:15:35.903864Z",
     "shell.execute_reply": "2021-01-22T08:15:35.904493Z"
    },
    "papermill": {
     "duration": 0.067905,
     "end_time": "2021-01-22T08:15:35.904625",
     "exception": false,
     "start_time": "2021-01-22T08:15:35.836720",
     "status": "completed"
    },
    "tags": []
   },
   "outputs": [
    {
     "data": {
      "text/plain": [
       "0.029222565658954647"
      ]
     },
     "execution_count": 281,
     "metadata": {},
     "output_type": "execute_result"
    }
   ],
   "source": [
    "# gain(s,temp)=entropy(s)-(entropy(s,hot),entropy(s,mild),entropy(s,cool))\n",
    "IG_Temp = calculate_entropy(df,'play') - ((len(df[df['temp']=='Hot'])/len(df))*calculate_entropy(df,'play','temp','Hot')\n",
    "                                          + (len(df[df['temp']=='Mild'])/len(df))*calculate_entropy(df,'play','temp','Mild')\n",
    "                                          +(len(df[df['temp']=='Cool'])/len(df))*calculate_entropy(df,'play','temp','Cool'))\n",
    "\n",
    "IG_Temp"
   ]
  },
  {
   "cell_type": "markdown",
   "metadata": {
    "papermill": {
     "duration": 0.087379,
     "end_time": "2021-01-22T08:15:36.049936",
     "exception": false,
     "start_time": "2021-01-22T08:15:35.962557",
     "status": "completed"
    },
    "tags": []
   },
   "source": [
    "## Gain(s,humidity)"
   ]
  },
  {
   "cell_type": "code",
   "execution_count": 282,
   "metadata": {
    "execution": {
     "iopub.execute_input": "2021-01-22T08:15:36.166502Z",
     "iopub.status.busy": "2021-01-22T08:15:36.165805Z",
     "iopub.status.idle": "2021-01-22T08:15:36.170261Z",
     "shell.execute_reply": "2021-01-22T08:15:36.170790Z"
    },
    "papermill": {
     "duration": 0.067047,
     "end_time": "2021-01-22T08:15:36.170916",
     "exception": false,
     "start_time": "2021-01-22T08:15:36.103869",
     "status": "completed"
    },
    "tags": []
   },
   "outputs": [
    {
     "data": {
      "text/plain": [
       "High      7\n",
       "Normal    7\n",
       "Name: humidity, dtype: int64"
      ]
     },
     "execution_count": 282,
     "metadata": {},
     "output_type": "execute_result"
    }
   ],
   "source": [
    "df['humidity'].value_counts()"
   ]
  },
  {
   "cell_type": "code",
   "execution_count": 283,
   "metadata": {
    "execution": {
     "iopub.execute_input": "2021-01-22T08:15:36.280032Z",
     "iopub.status.busy": "2021-01-22T08:15:36.279140Z",
     "iopub.status.idle": "2021-01-22T08:15:36.292599Z",
     "shell.execute_reply": "2021-01-22T08:15:36.293131Z"
    },
    "papermill": {
     "duration": 0.06892,
     "end_time": "2021-01-22T08:15:36.293279",
     "exception": false,
     "start_time": "2021-01-22T08:15:36.224359",
     "status": "completed"
    },
    "tags": []
   },
   "outputs": [
    {
     "data": {
      "text/html": [
       "<div>\n",
       "<style scoped>\n",
       "    .dataframe tbody tr th:only-of-type {\n",
       "        vertical-align: middle;\n",
       "    }\n",
       "\n",
       "    .dataframe tbody tr th {\n",
       "        vertical-align: top;\n",
       "    }\n",
       "\n",
       "    .dataframe thead th {\n",
       "        text-align: right;\n",
       "    }\n",
       "</style>\n",
       "<table border=\"1\" class=\"dataframe\">\n",
       "  <thead>\n",
       "    <tr style=\"text-align: right;\">\n",
       "      <th></th>\n",
       "      <th>day</th>\n",
       "      <th>outlook</th>\n",
       "      <th>temp</th>\n",
       "      <th>humidity</th>\n",
       "      <th>wind</th>\n",
       "      <th>play</th>\n",
       "    </tr>\n",
       "  </thead>\n",
       "  <tbody>\n",
       "    <tr>\n",
       "      <th>0</th>\n",
       "      <td>D1</td>\n",
       "      <td>Sunny</td>\n",
       "      <td>Hot</td>\n",
       "      <td>High</td>\n",
       "      <td>Weak</td>\n",
       "      <td>No</td>\n",
       "    </tr>\n",
       "    <tr>\n",
       "      <th>1</th>\n",
       "      <td>D2</td>\n",
       "      <td>Sunny</td>\n",
       "      <td>Hot</td>\n",
       "      <td>High</td>\n",
       "      <td>Strong</td>\n",
       "      <td>No</td>\n",
       "    </tr>\n",
       "    <tr>\n",
       "      <th>2</th>\n",
       "      <td>D3</td>\n",
       "      <td>Overcast</td>\n",
       "      <td>Hot</td>\n",
       "      <td>High</td>\n",
       "      <td>Weak</td>\n",
       "      <td>Yes</td>\n",
       "    </tr>\n",
       "    <tr>\n",
       "      <th>3</th>\n",
       "      <td>D4</td>\n",
       "      <td>Rain</td>\n",
       "      <td>Mild</td>\n",
       "      <td>High</td>\n",
       "      <td>Weak</td>\n",
       "      <td>Yes</td>\n",
       "    </tr>\n",
       "    <tr>\n",
       "      <th>7</th>\n",
       "      <td>D8</td>\n",
       "      <td>Sunny</td>\n",
       "      <td>Mild</td>\n",
       "      <td>High</td>\n",
       "      <td>Weak</td>\n",
       "      <td>No</td>\n",
       "    </tr>\n",
       "    <tr>\n",
       "      <th>11</th>\n",
       "      <td>D12</td>\n",
       "      <td>Overcast</td>\n",
       "      <td>Mild</td>\n",
       "      <td>High</td>\n",
       "      <td>Strong</td>\n",
       "      <td>Yes</td>\n",
       "    </tr>\n",
       "    <tr>\n",
       "      <th>13</th>\n",
       "      <td>D14</td>\n",
       "      <td>Rain</td>\n",
       "      <td>Mild</td>\n",
       "      <td>High</td>\n",
       "      <td>Strong</td>\n",
       "      <td>No</td>\n",
       "    </tr>\n",
       "  </tbody>\n",
       "</table>\n",
       "</div>"
      ],
      "text/plain": [
       "    day   outlook  temp humidity    wind play\n",
       "0    D1     Sunny   Hot     High    Weak   No\n",
       "1    D2     Sunny   Hot     High  Strong   No\n",
       "2    D3  Overcast   Hot     High    Weak  Yes\n",
       "3    D4      Rain  Mild     High    Weak  Yes\n",
       "7    D8     Sunny  Mild     High    Weak   No\n",
       "11  D12  Overcast  Mild     High  Strong  Yes\n",
       "13  D14      Rain  Mild     High  Strong   No"
      ]
     },
     "execution_count": 283,
     "metadata": {},
     "output_type": "execute_result"
    }
   ],
   "source": [
    "df[df['humidity']=='High']"
   ]
  },
  {
   "cell_type": "code",
   "execution_count": 284,
   "metadata": {
    "execution": {
     "iopub.execute_input": "2021-01-22T08:15:36.400752Z",
     "iopub.status.busy": "2021-01-22T08:15:36.399764Z",
     "iopub.status.idle": "2021-01-22T08:15:36.414658Z",
     "shell.execute_reply": "2021-01-22T08:15:36.414067Z"
    },
    "papermill": {
     "duration": 0.070171,
     "end_time": "2021-01-22T08:15:36.414768",
     "exception": false,
     "start_time": "2021-01-22T08:15:36.344597",
     "status": "completed"
    },
    "tags": []
   },
   "outputs": [
    {
     "data": {
      "text/html": [
       "<div>\n",
       "<style scoped>\n",
       "    .dataframe tbody tr th:only-of-type {\n",
       "        vertical-align: middle;\n",
       "    }\n",
       "\n",
       "    .dataframe tbody tr th {\n",
       "        vertical-align: top;\n",
       "    }\n",
       "\n",
       "    .dataframe thead th {\n",
       "        text-align: right;\n",
       "    }\n",
       "</style>\n",
       "<table border=\"1\" class=\"dataframe\">\n",
       "  <thead>\n",
       "    <tr style=\"text-align: right;\">\n",
       "      <th></th>\n",
       "      <th>day</th>\n",
       "      <th>outlook</th>\n",
       "      <th>temp</th>\n",
       "      <th>humidity</th>\n",
       "      <th>wind</th>\n",
       "      <th>play</th>\n",
       "    </tr>\n",
       "  </thead>\n",
       "  <tbody>\n",
       "    <tr>\n",
       "      <th>4</th>\n",
       "      <td>D5</td>\n",
       "      <td>Rain</td>\n",
       "      <td>Cool</td>\n",
       "      <td>Normal</td>\n",
       "      <td>Weak</td>\n",
       "      <td>Yes</td>\n",
       "    </tr>\n",
       "    <tr>\n",
       "      <th>5</th>\n",
       "      <td>D6</td>\n",
       "      <td>Rain</td>\n",
       "      <td>Cool</td>\n",
       "      <td>Normal</td>\n",
       "      <td>Strong</td>\n",
       "      <td>No</td>\n",
       "    </tr>\n",
       "    <tr>\n",
       "      <th>6</th>\n",
       "      <td>D7</td>\n",
       "      <td>Overcast</td>\n",
       "      <td>Cool</td>\n",
       "      <td>Normal</td>\n",
       "      <td>Strong</td>\n",
       "      <td>Yes</td>\n",
       "    </tr>\n",
       "    <tr>\n",
       "      <th>8</th>\n",
       "      <td>D9</td>\n",
       "      <td>Sunny</td>\n",
       "      <td>Cool</td>\n",
       "      <td>Normal</td>\n",
       "      <td>Weak</td>\n",
       "      <td>Yes</td>\n",
       "    </tr>\n",
       "    <tr>\n",
       "      <th>9</th>\n",
       "      <td>D10</td>\n",
       "      <td>Rain</td>\n",
       "      <td>Mild</td>\n",
       "      <td>Normal</td>\n",
       "      <td>Weak</td>\n",
       "      <td>Yes</td>\n",
       "    </tr>\n",
       "    <tr>\n",
       "      <th>10</th>\n",
       "      <td>D11</td>\n",
       "      <td>Sunny</td>\n",
       "      <td>Mild</td>\n",
       "      <td>Normal</td>\n",
       "      <td>Strong</td>\n",
       "      <td>Yes</td>\n",
       "    </tr>\n",
       "    <tr>\n",
       "      <th>12</th>\n",
       "      <td>D13</td>\n",
       "      <td>Overcast</td>\n",
       "      <td>Hot</td>\n",
       "      <td>Normal</td>\n",
       "      <td>Weak</td>\n",
       "      <td>Yes</td>\n",
       "    </tr>\n",
       "  </tbody>\n",
       "</table>\n",
       "</div>"
      ],
      "text/plain": [
       "    day   outlook  temp humidity    wind play\n",
       "4    D5      Rain  Cool   Normal    Weak  Yes\n",
       "5    D6      Rain  Cool   Normal  Strong   No\n",
       "6    D7  Overcast  Cool   Normal  Strong  Yes\n",
       "8    D9     Sunny  Cool   Normal    Weak  Yes\n",
       "9   D10      Rain  Mild   Normal    Weak  Yes\n",
       "10  D11     Sunny  Mild   Normal  Strong  Yes\n",
       "12  D13  Overcast   Hot   Normal    Weak  Yes"
      ]
     },
     "execution_count": 284,
     "metadata": {},
     "output_type": "execute_result"
    }
   ],
   "source": [
    "df[df['humidity']=='Normal']"
   ]
  },
  {
   "cell_type": "code",
   "execution_count": 285,
   "metadata": {
    "execution": {
     "iopub.execute_input": "2021-01-22T08:15:36.537069Z",
     "iopub.status.busy": "2021-01-22T08:15:36.536358Z",
     "iopub.status.idle": "2021-01-22T08:15:36.539326Z",
     "shell.execute_reply": "2021-01-22T08:15:36.539839Z"
    },
    "papermill": {
     "duration": 0.070162,
     "end_time": "2021-01-22T08:15:36.539963",
     "exception": false,
     "start_time": "2021-01-22T08:15:36.469801",
     "status": "completed"
    },
    "tags": []
   },
   "outputs": [
    {
     "data": {
      "text/plain": [
       "0.15183550136234136"
      ]
     },
     "execution_count": 285,
     "metadata": {},
     "output_type": "execute_result"
    }
   ],
   "source": [
    "## gain(s,humidity)=entropy(s)-(entropy(s,high),entropy(s,normal))\n",
    "IG_Humidity = calculate_entropy(df,'play') - ((len(df[df['humidity']=='High'])/len(df))*calculate_entropy(df,'play','humidity','High')\n",
    "                                          + (len(df[df['humidity']=='Normal'])/len(df))*calculate_entropy(df,'play','humidity','Normal')\n",
    "                                          )\n",
    "\n",
    "IG_Humidity"
   ]
  },
  {
   "cell_type": "markdown",
   "metadata": {
    "papermill": {
     "duration": 0.053229,
     "end_time": "2021-01-22T08:15:36.647183",
     "exception": false,
     "start_time": "2021-01-22T08:15:36.593954",
     "status": "completed"
    },
    "tags": []
   },
   "source": [
    "## gain(s,wind)"
   ]
  },
  {
   "cell_type": "code",
   "execution_count": 286,
   "metadata": {
    "execution": {
     "iopub.execute_input": "2021-01-22T08:15:36.755074Z",
     "iopub.status.busy": "2021-01-22T08:15:36.754438Z",
     "iopub.status.idle": "2021-01-22T08:15:36.760600Z",
     "shell.execute_reply": "2021-01-22T08:15:36.761074Z"
    },
    "papermill": {
     "duration": 0.06148,
     "end_time": "2021-01-22T08:15:36.761230",
     "exception": false,
     "start_time": "2021-01-22T08:15:36.699750",
     "status": "completed"
    },
    "tags": []
   },
   "outputs": [
    {
     "data": {
      "text/plain": [
       "Weak      8\n",
       "Strong    6\n",
       "Name: wind, dtype: int64"
      ]
     },
     "execution_count": 286,
     "metadata": {},
     "output_type": "execute_result"
    }
   ],
   "source": [
    "df['wind'].value_counts()"
   ]
  },
  {
   "cell_type": "code",
   "execution_count": 287,
   "metadata": {
    "execution": {
     "iopub.execute_input": "2021-01-22T08:15:36.870053Z",
     "iopub.status.busy": "2021-01-22T08:15:36.869479Z",
     "iopub.status.idle": "2021-01-22T08:15:36.882635Z",
     "shell.execute_reply": "2021-01-22T08:15:36.882110Z"
    },
    "papermill": {
     "duration": 0.069346,
     "end_time": "2021-01-22T08:15:36.882738",
     "exception": false,
     "start_time": "2021-01-22T08:15:36.813392",
     "status": "completed"
    },
    "tags": []
   },
   "outputs": [
    {
     "data": {
      "text/html": [
       "<div>\n",
       "<style scoped>\n",
       "    .dataframe tbody tr th:only-of-type {\n",
       "        vertical-align: middle;\n",
       "    }\n",
       "\n",
       "    .dataframe tbody tr th {\n",
       "        vertical-align: top;\n",
       "    }\n",
       "\n",
       "    .dataframe thead th {\n",
       "        text-align: right;\n",
       "    }\n",
       "</style>\n",
       "<table border=\"1\" class=\"dataframe\">\n",
       "  <thead>\n",
       "    <tr style=\"text-align: right;\">\n",
       "      <th></th>\n",
       "      <th>day</th>\n",
       "      <th>outlook</th>\n",
       "      <th>temp</th>\n",
       "      <th>humidity</th>\n",
       "      <th>wind</th>\n",
       "      <th>play</th>\n",
       "    </tr>\n",
       "  </thead>\n",
       "  <tbody>\n",
       "    <tr>\n",
       "      <th>0</th>\n",
       "      <td>D1</td>\n",
       "      <td>Sunny</td>\n",
       "      <td>Hot</td>\n",
       "      <td>High</td>\n",
       "      <td>Weak</td>\n",
       "      <td>No</td>\n",
       "    </tr>\n",
       "    <tr>\n",
       "      <th>2</th>\n",
       "      <td>D3</td>\n",
       "      <td>Overcast</td>\n",
       "      <td>Hot</td>\n",
       "      <td>High</td>\n",
       "      <td>Weak</td>\n",
       "      <td>Yes</td>\n",
       "    </tr>\n",
       "    <tr>\n",
       "      <th>3</th>\n",
       "      <td>D4</td>\n",
       "      <td>Rain</td>\n",
       "      <td>Mild</td>\n",
       "      <td>High</td>\n",
       "      <td>Weak</td>\n",
       "      <td>Yes</td>\n",
       "    </tr>\n",
       "    <tr>\n",
       "      <th>4</th>\n",
       "      <td>D5</td>\n",
       "      <td>Rain</td>\n",
       "      <td>Cool</td>\n",
       "      <td>Normal</td>\n",
       "      <td>Weak</td>\n",
       "      <td>Yes</td>\n",
       "    </tr>\n",
       "    <tr>\n",
       "      <th>7</th>\n",
       "      <td>D8</td>\n",
       "      <td>Sunny</td>\n",
       "      <td>Mild</td>\n",
       "      <td>High</td>\n",
       "      <td>Weak</td>\n",
       "      <td>No</td>\n",
       "    </tr>\n",
       "    <tr>\n",
       "      <th>8</th>\n",
       "      <td>D9</td>\n",
       "      <td>Sunny</td>\n",
       "      <td>Cool</td>\n",
       "      <td>Normal</td>\n",
       "      <td>Weak</td>\n",
       "      <td>Yes</td>\n",
       "    </tr>\n",
       "    <tr>\n",
       "      <th>9</th>\n",
       "      <td>D10</td>\n",
       "      <td>Rain</td>\n",
       "      <td>Mild</td>\n",
       "      <td>Normal</td>\n",
       "      <td>Weak</td>\n",
       "      <td>Yes</td>\n",
       "    </tr>\n",
       "    <tr>\n",
       "      <th>12</th>\n",
       "      <td>D13</td>\n",
       "      <td>Overcast</td>\n",
       "      <td>Hot</td>\n",
       "      <td>Normal</td>\n",
       "      <td>Weak</td>\n",
       "      <td>Yes</td>\n",
       "    </tr>\n",
       "  </tbody>\n",
       "</table>\n",
       "</div>"
      ],
      "text/plain": [
       "    day   outlook  temp humidity  wind play\n",
       "0    D1     Sunny   Hot     High  Weak   No\n",
       "2    D3  Overcast   Hot     High  Weak  Yes\n",
       "3    D4      Rain  Mild     High  Weak  Yes\n",
       "4    D5      Rain  Cool   Normal  Weak  Yes\n",
       "7    D8     Sunny  Mild     High  Weak   No\n",
       "8    D9     Sunny  Cool   Normal  Weak  Yes\n",
       "9   D10      Rain  Mild   Normal  Weak  Yes\n",
       "12  D13  Overcast   Hot   Normal  Weak  Yes"
      ]
     },
     "execution_count": 287,
     "metadata": {},
     "output_type": "execute_result"
    }
   ],
   "source": [
    "df[df['wind']=='Weak']"
   ]
  },
  {
   "cell_type": "code",
   "execution_count": 288,
   "metadata": {
    "execution": {
     "iopub.execute_input": "2021-01-22T08:15:37.005897Z",
     "iopub.status.busy": "2021-01-22T08:15:37.005267Z",
     "iopub.status.idle": "2021-01-22T08:15:37.025294Z",
     "shell.execute_reply": "2021-01-22T08:15:37.024634Z"
    },
    "papermill": {
     "duration": 0.08899,
     "end_time": "2021-01-22T08:15:37.025406",
     "exception": false,
     "start_time": "2021-01-22T08:15:36.936416",
     "status": "completed"
    },
    "scrolled": true,
    "tags": []
   },
   "outputs": [
    {
     "data": {
      "text/html": [
       "<div>\n",
       "<style scoped>\n",
       "    .dataframe tbody tr th:only-of-type {\n",
       "        vertical-align: middle;\n",
       "    }\n",
       "\n",
       "    .dataframe tbody tr th {\n",
       "        vertical-align: top;\n",
       "    }\n",
       "\n",
       "    .dataframe thead th {\n",
       "        text-align: right;\n",
       "    }\n",
       "</style>\n",
       "<table border=\"1\" class=\"dataframe\">\n",
       "  <thead>\n",
       "    <tr style=\"text-align: right;\">\n",
       "      <th></th>\n",
       "      <th>day</th>\n",
       "      <th>outlook</th>\n",
       "      <th>temp</th>\n",
       "      <th>humidity</th>\n",
       "      <th>wind</th>\n",
       "      <th>play</th>\n",
       "    </tr>\n",
       "  </thead>\n",
       "  <tbody>\n",
       "    <tr>\n",
       "      <th>1</th>\n",
       "      <td>D2</td>\n",
       "      <td>Sunny</td>\n",
       "      <td>Hot</td>\n",
       "      <td>High</td>\n",
       "      <td>Strong</td>\n",
       "      <td>No</td>\n",
       "    </tr>\n",
       "    <tr>\n",
       "      <th>5</th>\n",
       "      <td>D6</td>\n",
       "      <td>Rain</td>\n",
       "      <td>Cool</td>\n",
       "      <td>Normal</td>\n",
       "      <td>Strong</td>\n",
       "      <td>No</td>\n",
       "    </tr>\n",
       "    <tr>\n",
       "      <th>6</th>\n",
       "      <td>D7</td>\n",
       "      <td>Overcast</td>\n",
       "      <td>Cool</td>\n",
       "      <td>Normal</td>\n",
       "      <td>Strong</td>\n",
       "      <td>Yes</td>\n",
       "    </tr>\n",
       "    <tr>\n",
       "      <th>10</th>\n",
       "      <td>D11</td>\n",
       "      <td>Sunny</td>\n",
       "      <td>Mild</td>\n",
       "      <td>Normal</td>\n",
       "      <td>Strong</td>\n",
       "      <td>Yes</td>\n",
       "    </tr>\n",
       "    <tr>\n",
       "      <th>11</th>\n",
       "      <td>D12</td>\n",
       "      <td>Overcast</td>\n",
       "      <td>Mild</td>\n",
       "      <td>High</td>\n",
       "      <td>Strong</td>\n",
       "      <td>Yes</td>\n",
       "    </tr>\n",
       "    <tr>\n",
       "      <th>13</th>\n",
       "      <td>D14</td>\n",
       "      <td>Rain</td>\n",
       "      <td>Mild</td>\n",
       "      <td>High</td>\n",
       "      <td>Strong</td>\n",
       "      <td>No</td>\n",
       "    </tr>\n",
       "  </tbody>\n",
       "</table>\n",
       "</div>"
      ],
      "text/plain": [
       "    day   outlook  temp humidity    wind play\n",
       "1    D2     Sunny   Hot     High  Strong   No\n",
       "5    D6      Rain  Cool   Normal  Strong   No\n",
       "6    D7  Overcast  Cool   Normal  Strong  Yes\n",
       "10  D11     Sunny  Mild   Normal  Strong  Yes\n",
       "11  D12  Overcast  Mild     High  Strong  Yes\n",
       "13  D14      Rain  Mild     High  Strong   No"
      ]
     },
     "execution_count": 288,
     "metadata": {},
     "output_type": "execute_result"
    }
   ],
   "source": [
    "df[df['wind']=='Strong']"
   ]
  },
  {
   "cell_type": "code",
   "execution_count": 289,
   "metadata": {
    "execution": {
     "iopub.execute_input": "2021-01-22T08:15:37.146058Z",
     "iopub.status.busy": "2021-01-22T08:15:37.145030Z",
     "iopub.status.idle": "2021-01-22T08:15:37.150555Z",
     "shell.execute_reply": "2021-01-22T08:15:37.150037Z"
    },
    "papermill": {
     "duration": 0.071165,
     "end_time": "2021-01-22T08:15:37.150666",
     "exception": false,
     "start_time": "2021-01-22T08:15:37.079501",
     "status": "completed"
    },
    "tags": []
   },
   "outputs": [
    {
     "data": {
      "text/plain": [
       "0.04812703040826927"
      ]
     },
     "execution_count": 289,
     "metadata": {},
     "output_type": "execute_result"
    }
   ],
   "source": [
    "## gain(s,outlook)=entropy(s)-(entropy(s,weak),entropy(s,strong))\n",
    "IG_Wind = calculate_entropy(df,'play') - ((len(df[df['wind']=='Weak'])/len(df))*calculate_entropy(df,'play','wind','Weak')\n",
    "                                          + (len(df[df['wind']=='Strong'])/len(df))*calculate_entropy(df,'play','wind','Strong')\n",
    "                                          )\n",
    "\n",
    "IG_Wind"
   ]
  },
  {
   "cell_type": "markdown",
   "metadata": {
    "papermill": {
     "duration": 0.0547,
     "end_time": "2021-01-22T08:15:37.378763",
     "exception": false,
     "start_time": "2021-01-22T08:15:37.324063",
     "status": "completed"
    },
    "tags": []
   },
   "source": [
    "## taking the feature with largest gain as root node"
   ]
  },
  {
   "cell_type": "code",
   "execution_count": 290,
   "metadata": {
    "papermill": {
     "duration": 0.054912,
     "end_time": "2021-01-22T08:15:37.489130",
     "exception": false,
     "start_time": "2021-01-22T08:15:37.434218",
     "status": "completed"
    },
    "tags": []
   },
   "outputs": [
    {
     "name": "stdout",
     "output_type": "stream",
     "text": [
      "0.2467498197744391 0.029222565658954647 0.15183550136234136 0.04812703040826927\n",
      "root node  : Outlook\n"
     ]
    }
   ],
   "source": [
    "print(IG_Outlook,IG_Temp,IG_Humidity,IG_Wind)\n",
    "l1=[IG_Outlook,IG_Temp,IG_Humidity,IG_Wind]\n",
    "nl1=[\"Outlook\",\"Temp\",\"Humidity\",\"Wind\"]\n",
    "root_node=nl1[l1.index(max(l1))]\n",
    "print(\"root node  :\",root_node)"
   ]
  },
  {
   "cell_type": "code",
   "execution_count": 291,
   "metadata": {
    "execution": {
     "iopub.execute_input": "2021-01-22T08:15:37.770032Z",
     "iopub.status.busy": "2021-01-22T08:15:37.769093Z",
     "iopub.status.idle": "2021-01-22T08:15:37.781708Z",
     "shell.execute_reply": "2021-01-22T08:15:37.782280Z"
    },
    "papermill": {
     "duration": 0.085468,
     "end_time": "2021-01-22T08:15:37.782398",
     "exception": false,
     "start_time": "2021-01-22T08:15:37.696930",
     "status": "completed"
    },
    "tags": []
   },
   "outputs": [
    {
     "data": {
      "text/html": [
       "<div>\n",
       "<style scoped>\n",
       "    .dataframe tbody tr th:only-of-type {\n",
       "        vertical-align: middle;\n",
       "    }\n",
       "\n",
       "    .dataframe tbody tr th {\n",
       "        vertical-align: top;\n",
       "    }\n",
       "\n",
       "    .dataframe thead th {\n",
       "        text-align: right;\n",
       "    }\n",
       "</style>\n",
       "<table border=\"1\" class=\"dataframe\">\n",
       "  <thead>\n",
       "    <tr style=\"text-align: right;\">\n",
       "      <th></th>\n",
       "      <th>day</th>\n",
       "      <th>outlook</th>\n",
       "      <th>temp</th>\n",
       "      <th>humidity</th>\n",
       "      <th>wind</th>\n",
       "      <th>play</th>\n",
       "    </tr>\n",
       "  </thead>\n",
       "  <tbody>\n",
       "    <tr>\n",
       "      <th>0</th>\n",
       "      <td>D1</td>\n",
       "      <td>Sunny</td>\n",
       "      <td>Hot</td>\n",
       "      <td>High</td>\n",
       "      <td>Weak</td>\n",
       "      <td>No</td>\n",
       "    </tr>\n",
       "    <tr>\n",
       "      <th>1</th>\n",
       "      <td>D2</td>\n",
       "      <td>Sunny</td>\n",
       "      <td>Hot</td>\n",
       "      <td>High</td>\n",
       "      <td>Strong</td>\n",
       "      <td>No</td>\n",
       "    </tr>\n",
       "    <tr>\n",
       "      <th>7</th>\n",
       "      <td>D8</td>\n",
       "      <td>Sunny</td>\n",
       "      <td>Mild</td>\n",
       "      <td>High</td>\n",
       "      <td>Weak</td>\n",
       "      <td>No</td>\n",
       "    </tr>\n",
       "    <tr>\n",
       "      <th>8</th>\n",
       "      <td>D9</td>\n",
       "      <td>Sunny</td>\n",
       "      <td>Cool</td>\n",
       "      <td>Normal</td>\n",
       "      <td>Weak</td>\n",
       "      <td>Yes</td>\n",
       "    </tr>\n",
       "    <tr>\n",
       "      <th>10</th>\n",
       "      <td>D11</td>\n",
       "      <td>Sunny</td>\n",
       "      <td>Mild</td>\n",
       "      <td>Normal</td>\n",
       "      <td>Strong</td>\n",
       "      <td>Yes</td>\n",
       "    </tr>\n",
       "  </tbody>\n",
       "</table>\n",
       "</div>"
      ],
      "text/plain": [
       "    day outlook  temp humidity    wind play\n",
       "0    D1   Sunny   Hot     High    Weak   No\n",
       "1    D2   Sunny   Hot     High  Strong   No\n",
       "7    D8   Sunny  Mild     High    Weak   No\n",
       "8    D9   Sunny  Cool   Normal    Weak  Yes\n",
       "10  D11   Sunny  Mild   Normal  Strong  Yes"
      ]
     },
     "execution_count": 291,
     "metadata": {},
     "output_type": "execute_result"
    }
   ],
   "source": [
    "df1=df[df['outlook']=='Sunny']\n",
    "df1"
   ]
  },
  {
   "cell_type": "markdown",
   "metadata": {},
   "source": [
    "## entropy(s,sunny)"
   ]
  },
  {
   "cell_type": "code",
   "execution_count": 292,
   "metadata": {
    "execution": {
     "iopub.execute_input": "2021-01-22T08:15:37.896960Z",
     "iopub.status.busy": "2021-01-22T08:15:37.895988Z",
     "iopub.status.idle": "2021-01-22T08:15:37.914050Z",
     "shell.execute_reply": "2021-01-22T08:15:37.914873Z"
    },
    "papermill": {
     "duration": 0.078014,
     "end_time": "2021-01-22T08:15:37.915077",
     "exception": false,
     "start_time": "2021-01-22T08:15:37.837063",
     "status": "completed"
    },
    "tags": []
   },
   "outputs": [
    {
     "data": {
      "text/plain": [
       "0.9709505944546686"
      ]
     },
     "execution_count": 292,
     "metadata": {},
     "output_type": "execute_result"
    }
   ],
   "source": [
    "IG_Outlook = calculate_entropy(df1,'play')\n",
    "\n",
    "IG_Outlook"
   ]
  },
  {
   "cell_type": "code",
   "execution_count": 293,
   "metadata": {
    "execution": {
     "iopub.execute_input": "2021-01-22T08:15:38.055956Z",
     "iopub.status.busy": "2021-01-22T08:15:38.054814Z",
     "iopub.status.idle": "2021-01-22T08:15:38.065280Z",
     "shell.execute_reply": "2021-01-22T08:15:38.065843Z"
    },
    "papermill": {
     "duration": 0.089329,
     "end_time": "2021-01-22T08:15:38.065978",
     "exception": false,
     "start_time": "2021-01-22T08:15:37.976649",
     "status": "completed"
    },
    "tags": []
   },
   "outputs": [
    {
     "data": {
      "text/plain": [
       "0.5709505944546686"
      ]
     },
     "execution_count": 293,
     "metadata": {},
     "output_type": "execute_result"
    }
   ],
   "source": [
    "IG_Temp = calculate_entropy(df1,'play') - ((len(df1[df1['temp']=='Hot'])/len(df1))*calculate_entropy(df1,'play','temp','Hot')\n",
    "                                          + (len(df1[df1['temp']=='Mild'])/len(df1))*calculate_entropy(df1,'play','temp','Mild')\n",
    "                                          +(len(df1[df1['temp']=='Cool'])/len(df1))*calculate_entropy(df1,'play','temp','Cool'))\n",
    "\n",
    "IG_Temp"
   ]
  },
  {
   "cell_type": "code",
   "execution_count": 294,
   "metadata": {
    "execution": {
     "iopub.execute_input": "2021-01-22T08:15:38.191560Z",
     "iopub.status.busy": "2021-01-22T08:15:38.191007Z",
     "iopub.status.idle": "2021-01-22T08:15:38.201963Z",
     "shell.execute_reply": "2021-01-22T08:15:38.202502Z"
    },
    "papermill": {
     "duration": 0.070468,
     "end_time": "2021-01-22T08:15:38.202619",
     "exception": false,
     "start_time": "2021-01-22T08:15:38.132151",
     "status": "completed"
    },
    "tags": []
   },
   "outputs": [
    {
     "data": {
      "text/plain": [
       "0.9709505944546686"
      ]
     },
     "execution_count": 294,
     "metadata": {},
     "output_type": "execute_result"
    }
   ],
   "source": [
    "IG_Humidity = calculate_entropy(df1,'play') - ((len(df1[df1['humidity']=='High'])/len(df1))*calculate_entropy(df1,'play','humidity','High')\n",
    "                                          + (len(df1[df1['humidity']=='Normal'])/len(df1))*calculate_entropy(df1,'play','humidity','Normal')\n",
    "                                          )\n",
    "\n",
    "IG_Humidity"
   ]
  },
  {
   "cell_type": "code",
   "execution_count": 295,
   "metadata": {
    "execution": {
     "iopub.execute_input": "2021-01-22T08:15:38.329891Z",
     "iopub.status.busy": "2021-01-22T08:15:38.329292Z",
     "iopub.status.idle": "2021-01-22T08:15:38.340998Z",
     "shell.execute_reply": "2021-01-22T08:15:38.340592Z"
    },
    "papermill": {
     "duration": 0.081548,
     "end_time": "2021-01-22T08:15:38.341090",
     "exception": false,
     "start_time": "2021-01-22T08:15:38.259542",
     "status": "completed"
    },
    "tags": []
   },
   "outputs": [
    {
     "data": {
      "text/plain": [
       "0.01997309402197489"
      ]
     },
     "execution_count": 295,
     "metadata": {},
     "output_type": "execute_result"
    }
   ],
   "source": [
    "IG_Wind = calculate_entropy(df1,'play') - ((len(df1[df1['wind']=='Weak'])/len(df1))*calculate_entropy(df1,'play','wind','Weak')\n",
    "                                          + (len(df1[df1['wind']=='Strong'])/len(df1))*calculate_entropy(df1,'play','wind','Strong')\n",
    "                                          )\n",
    "\n",
    "IG_Wind"
   ]
  },
  {
   "cell_type": "markdown",
   "metadata": {},
   "source": [
    "## node 1"
   ]
  },
  {
   "cell_type": "code",
   "execution_count": 296,
   "metadata": {
    "papermill": {
     "duration": 0.059861,
     "end_time": "2021-01-22T08:15:38.457812",
     "exception": false,
     "start_time": "2021-01-22T08:15:38.397951",
     "status": "completed"
    },
    "tags": []
   },
   "outputs": [
    {
     "name": "stdout",
     "output_type": "stream",
     "text": [
      "0.5709505944546686 0.9709505944546686 0.01997309402197489\n",
      "node 1 : Humidity\n"
     ]
    }
   ],
   "source": [
    "print(IG_Temp,IG_Humidity,IG_Wind)\n",
    "l2=[IG_Temp,IG_Humidity,IG_Wind]\n",
    "nl2=[\"Temp\",\"Humidity\",\"Wind\"]\n",
    "node1=l2.index(max(l2))\n",
    "print(\"node 1 :\",nl2[node1])"
   ]
  },
  {
   "cell_type": "code",
   "execution_count": 297,
   "metadata": {
    "execution": {
     "iopub.execute_input": "2021-01-22T08:15:38.584046Z",
     "iopub.status.busy": "2021-01-22T08:15:38.583428Z",
     "iopub.status.idle": "2021-01-22T08:15:38.586160Z",
     "shell.execute_reply": "2021-01-22T08:15:38.586715Z"
    },
    "papermill": {
     "duration": 0.071135,
     "end_time": "2021-01-22T08:15:38.586833",
     "exception": false,
     "start_time": "2021-01-22T08:15:38.515698",
     "status": "completed"
    },
    "tags": []
   },
   "outputs": [
    {
     "data": {
      "text/html": [
       "<div>\n",
       "<style scoped>\n",
       "    .dataframe tbody tr th:only-of-type {\n",
       "        vertical-align: middle;\n",
       "    }\n",
       "\n",
       "    .dataframe tbody tr th {\n",
       "        vertical-align: top;\n",
       "    }\n",
       "\n",
       "    .dataframe thead th {\n",
       "        text-align: right;\n",
       "    }\n",
       "</style>\n",
       "<table border=\"1\" class=\"dataframe\">\n",
       "  <thead>\n",
       "    <tr style=\"text-align: right;\">\n",
       "      <th></th>\n",
       "      <th>day</th>\n",
       "      <th>outlook</th>\n",
       "      <th>temp</th>\n",
       "      <th>humidity</th>\n",
       "      <th>wind</th>\n",
       "      <th>play</th>\n",
       "    </tr>\n",
       "  </thead>\n",
       "  <tbody>\n",
       "    <tr>\n",
       "      <th>0</th>\n",
       "      <td>D1</td>\n",
       "      <td>Sunny</td>\n",
       "      <td>Hot</td>\n",
       "      <td>High</td>\n",
       "      <td>Weak</td>\n",
       "      <td>No</td>\n",
       "    </tr>\n",
       "    <tr>\n",
       "      <th>1</th>\n",
       "      <td>D2</td>\n",
       "      <td>Sunny</td>\n",
       "      <td>Hot</td>\n",
       "      <td>High</td>\n",
       "      <td>Strong</td>\n",
       "      <td>No</td>\n",
       "    </tr>\n",
       "    <tr>\n",
       "      <th>7</th>\n",
       "      <td>D8</td>\n",
       "      <td>Sunny</td>\n",
       "      <td>Mild</td>\n",
       "      <td>High</td>\n",
       "      <td>Weak</td>\n",
       "      <td>No</td>\n",
       "    </tr>\n",
       "  </tbody>\n",
       "</table>\n",
       "</div>"
      ],
      "text/plain": [
       "  day outlook  temp humidity    wind play\n",
       "0  D1   Sunny   Hot     High    Weak   No\n",
       "1  D2   Sunny   Hot     High  Strong   No\n",
       "7  D8   Sunny  Mild     High    Weak   No"
      ]
     },
     "execution_count": 297,
     "metadata": {},
     "output_type": "execute_result"
    }
   ],
   "source": [
    "df3 = df1[df1['humidity']=='High']\n",
    "df3"
   ]
  },
  {
   "cell_type": "code",
   "execution_count": 298,
   "metadata": {
    "execution": {
     "iopub.execute_input": "2021-01-22T08:15:38.707147Z",
     "iopub.status.busy": "2021-01-22T08:15:38.706648Z",
     "iopub.status.idle": "2021-01-22T08:15:38.717315Z",
     "shell.execute_reply": "2021-01-22T08:15:38.717865Z"
    },
    "papermill": {
     "duration": 0.072652,
     "end_time": "2021-01-22T08:15:38.717996",
     "exception": false,
     "start_time": "2021-01-22T08:15:38.645344",
     "status": "completed"
    },
    "tags": []
   },
   "outputs": [
    {
     "data": {
      "text/html": [
       "<div>\n",
       "<style scoped>\n",
       "    .dataframe tbody tr th:only-of-type {\n",
       "        vertical-align: middle;\n",
       "    }\n",
       "\n",
       "    .dataframe tbody tr th {\n",
       "        vertical-align: top;\n",
       "    }\n",
       "\n",
       "    .dataframe thead th {\n",
       "        text-align: right;\n",
       "    }\n",
       "</style>\n",
       "<table border=\"1\" class=\"dataframe\">\n",
       "  <thead>\n",
       "    <tr style=\"text-align: right;\">\n",
       "      <th></th>\n",
       "      <th>day</th>\n",
       "      <th>outlook</th>\n",
       "      <th>temp</th>\n",
       "      <th>humidity</th>\n",
       "      <th>wind</th>\n",
       "      <th>play</th>\n",
       "    </tr>\n",
       "  </thead>\n",
       "  <tbody>\n",
       "    <tr>\n",
       "      <th>8</th>\n",
       "      <td>D9</td>\n",
       "      <td>Sunny</td>\n",
       "      <td>Cool</td>\n",
       "      <td>Normal</td>\n",
       "      <td>Weak</td>\n",
       "      <td>Yes</td>\n",
       "    </tr>\n",
       "    <tr>\n",
       "      <th>10</th>\n",
       "      <td>D11</td>\n",
       "      <td>Sunny</td>\n",
       "      <td>Mild</td>\n",
       "      <td>Normal</td>\n",
       "      <td>Strong</td>\n",
       "      <td>Yes</td>\n",
       "    </tr>\n",
       "  </tbody>\n",
       "</table>\n",
       "</div>"
      ],
      "text/plain": [
       "    day outlook  temp humidity    wind play\n",
       "8    D9   Sunny  Cool   Normal    Weak  Yes\n",
       "10  D11   Sunny  Mild   Normal  Strong  Yes"
      ]
     },
     "execution_count": 298,
     "metadata": {},
     "output_type": "execute_result"
    }
   ],
   "source": [
    "df4 = df1[df1['humidity']=='Normal']\n",
    "df4"
   ]
  },
  {
   "cell_type": "code",
   "execution_count": 299,
   "metadata": {},
   "outputs": [],
   "source": [
    "ol1=[root_node,'sunny',nl2[node1],'normal']"
   ]
  },
  {
   "cell_type": "markdown",
   "metadata": {},
   "source": [
    "## node 2"
   ]
  },
  {
   "cell_type": "code",
   "execution_count": 300,
   "metadata": {
    "execution": {
     "iopub.execute_input": "2021-01-22T08:15:38.837083Z",
     "iopub.status.busy": "2021-01-22T08:15:38.836521Z",
     "iopub.status.idle": "2021-01-22T08:15:38.847938Z",
     "shell.execute_reply": "2021-01-22T08:15:38.848595Z"
    },
    "papermill": {
     "duration": 0.072409,
     "end_time": "2021-01-22T08:15:38.848728",
     "exception": false,
     "start_time": "2021-01-22T08:15:38.776319",
     "status": "completed"
    },
    "tags": []
   },
   "outputs": [
    {
     "data": {
      "text/html": [
       "<div>\n",
       "<style scoped>\n",
       "    .dataframe tbody tr th:only-of-type {\n",
       "        vertical-align: middle;\n",
       "    }\n",
       "\n",
       "    .dataframe tbody tr th {\n",
       "        vertical-align: top;\n",
       "    }\n",
       "\n",
       "    .dataframe thead th {\n",
       "        text-align: right;\n",
       "    }\n",
       "</style>\n",
       "<table border=\"1\" class=\"dataframe\">\n",
       "  <thead>\n",
       "    <tr style=\"text-align: right;\">\n",
       "      <th></th>\n",
       "      <th>day</th>\n",
       "      <th>outlook</th>\n",
       "      <th>temp</th>\n",
       "      <th>humidity</th>\n",
       "      <th>wind</th>\n",
       "      <th>play</th>\n",
       "    </tr>\n",
       "  </thead>\n",
       "  <tbody>\n",
       "    <tr>\n",
       "      <th>3</th>\n",
       "      <td>D4</td>\n",
       "      <td>Rain</td>\n",
       "      <td>Mild</td>\n",
       "      <td>High</td>\n",
       "      <td>Weak</td>\n",
       "      <td>Yes</td>\n",
       "    </tr>\n",
       "    <tr>\n",
       "      <th>4</th>\n",
       "      <td>D5</td>\n",
       "      <td>Rain</td>\n",
       "      <td>Cool</td>\n",
       "      <td>Normal</td>\n",
       "      <td>Weak</td>\n",
       "      <td>Yes</td>\n",
       "    </tr>\n",
       "    <tr>\n",
       "      <th>5</th>\n",
       "      <td>D6</td>\n",
       "      <td>Rain</td>\n",
       "      <td>Cool</td>\n",
       "      <td>Normal</td>\n",
       "      <td>Strong</td>\n",
       "      <td>No</td>\n",
       "    </tr>\n",
       "    <tr>\n",
       "      <th>9</th>\n",
       "      <td>D10</td>\n",
       "      <td>Rain</td>\n",
       "      <td>Mild</td>\n",
       "      <td>Normal</td>\n",
       "      <td>Weak</td>\n",
       "      <td>Yes</td>\n",
       "    </tr>\n",
       "    <tr>\n",
       "      <th>13</th>\n",
       "      <td>D14</td>\n",
       "      <td>Rain</td>\n",
       "      <td>Mild</td>\n",
       "      <td>High</td>\n",
       "      <td>Strong</td>\n",
       "      <td>No</td>\n",
       "    </tr>\n",
       "  </tbody>\n",
       "</table>\n",
       "</div>"
      ],
      "text/plain": [
       "    day outlook  temp humidity    wind play\n",
       "3    D4    Rain  Mild     High    Weak  Yes\n",
       "4    D5    Rain  Cool   Normal    Weak  Yes\n",
       "5    D6    Rain  Cool   Normal  Strong   No\n",
       "9   D10    Rain  Mild   Normal    Weak  Yes\n",
       "13  D14    Rain  Mild     High  Strong   No"
      ]
     },
     "execution_count": 300,
     "metadata": {},
     "output_type": "execute_result"
    }
   ],
   "source": [
    "df2 = df[df['outlook']=='Rain']\n",
    "df2"
   ]
  },
  {
   "cell_type": "code",
   "execution_count": 301,
   "metadata": {
    "execution": {
     "iopub.execute_input": "2021-01-22T08:15:38.983008Z",
     "iopub.status.busy": "2021-01-22T08:15:38.981872Z",
     "iopub.status.idle": "2021-01-22T08:15:38.992358Z",
     "shell.execute_reply": "2021-01-22T08:15:38.991486Z"
    },
    "papermill": {
     "duration": 0.085309,
     "end_time": "2021-01-22T08:15:38.992515",
     "exception": false,
     "start_time": "2021-01-22T08:15:38.907206",
     "status": "completed"
    },
    "tags": []
   },
   "outputs": [
    {
     "data": {
      "text/plain": [
       "0.01997309402197489"
      ]
     },
     "execution_count": 301,
     "metadata": {},
     "output_type": "execute_result"
    }
   ],
   "source": [
    "IG_Temp = calculate_entropy(df2,'play') - ((len(df2[df2['temp']=='Hot'])/len(df2))*calculate_entropy(df2,'play','temp','Hot')\n",
    "                                          + (len(df2[df2['temp']=='Mild'])/len(df2))*calculate_entropy(df2,'play','temp','Mild')\n",
    "                                          +(len(df2[df2['temp']=='Cool'])/len(df2))*calculate_entropy(df2,'play','temp','Cool'))\n",
    "\n",
    "IG_Temp"
   ]
  },
  {
   "cell_type": "code",
   "execution_count": 302,
   "metadata": {
    "execution": {
     "iopub.execute_input": "2021-01-22T08:15:39.257386Z",
     "iopub.status.busy": "2021-01-22T08:15:39.256813Z",
     "iopub.status.idle": "2021-01-22T08:15:39.268692Z",
     "shell.execute_reply": "2021-01-22T08:15:39.268143Z"
    },
    "papermill": {
     "duration": 0.075525,
     "end_time": "2021-01-22T08:15:39.268784",
     "exception": false,
     "start_time": "2021-01-22T08:15:39.193259",
     "status": "completed"
    },
    "tags": []
   },
   "outputs": [
    {
     "data": {
      "text/plain": [
       "0.01997309402197489"
      ]
     },
     "execution_count": 302,
     "metadata": {},
     "output_type": "execute_result"
    }
   ],
   "source": [
    "IG_Humidity = calculate_entropy(df2,'play') - ((len(df2[df2['humidity']=='High'])/len(df2))*calculate_entropy(df2,'play','humidity','High')\n",
    "                                          + (len(df2[df2['humidity']=='Normal'])/len(df2))*calculate_entropy(df2,'play','humidity','Normal')\n",
    "                                          )\n",
    "\n",
    "IG_Humidity"
   ]
  },
  {
   "cell_type": "code",
   "execution_count": 303,
   "metadata": {
    "execution": {
     "iopub.execute_input": "2021-01-22T08:15:39.130084Z",
     "iopub.status.busy": "2021-01-22T08:15:39.129437Z",
     "iopub.status.idle": "2021-01-22T08:15:39.132111Z",
     "shell.execute_reply": "2021-01-22T08:15:39.132757Z"
    },
    "papermill": {
     "duration": 0.07467,
     "end_time": "2021-01-22T08:15:39.132898",
     "exception": false,
     "start_time": "2021-01-22T08:15:39.058228",
     "status": "completed"
    },
    "tags": []
   },
   "outputs": [
    {
     "data": {
      "text/plain": [
       "0.9709505944546686"
      ]
     },
     "execution_count": 303,
     "metadata": {},
     "output_type": "execute_result"
    }
   ],
   "source": [
    "IG_Wind = calculate_entropy(df2,'play') - ((len(df2[df2['wind']=='Weak'])/len(df2))*calculate_entropy(df2,'play','wind','Weak')\n",
    "                                          + (len(df2[df2['wind']=='Strong'])/len(df2))*calculate_entropy(df2,'play','wind','Strong')\n",
    "                                          )\n",
    "\n",
    "IG_Wind"
   ]
  },
  {
   "cell_type": "code",
   "execution_count": 304,
   "metadata": {},
   "outputs": [
    {
     "name": "stdout",
     "output_type": "stream",
     "text": [
      "0.01997309402197489 0.01997309402197489 0.9709505944546686\n",
      "node 2 : Wind\n"
     ]
    }
   ],
   "source": [
    "print(IG_Temp,IG_Humidity,IG_Wind)\n",
    "l3=[IG_Temp,IG_Humidity,IG_Wind]\n",
    "nl3=[\"Temp\",\"Humidity\",\"Wind\"]\n",
    "node2=l3.index(max(l3))\n",
    "print(\"node 2 :\",nl3[node2])"
   ]
  },
  {
   "cell_type": "code",
   "execution_count": 305,
   "metadata": {
    "execution": {
     "iopub.execute_input": "2021-01-22T08:15:39.395707Z",
     "iopub.status.busy": "2021-01-22T08:15:39.395052Z",
     "iopub.status.idle": "2021-01-22T08:15:39.406202Z",
     "shell.execute_reply": "2021-01-22T08:15:39.406761Z"
    },
    "papermill": {
     "duration": 0.075586,
     "end_time": "2021-01-22T08:15:39.406879",
     "exception": false,
     "start_time": "2021-01-22T08:15:39.331293",
     "status": "completed"
    },
    "tags": []
   },
   "outputs": [
    {
     "data": {
      "text/html": [
       "<div>\n",
       "<style scoped>\n",
       "    .dataframe tbody tr th:only-of-type {\n",
       "        vertical-align: middle;\n",
       "    }\n",
       "\n",
       "    .dataframe tbody tr th {\n",
       "        vertical-align: top;\n",
       "    }\n",
       "\n",
       "    .dataframe thead th {\n",
       "        text-align: right;\n",
       "    }\n",
       "</style>\n",
       "<table border=\"1\" class=\"dataframe\">\n",
       "  <thead>\n",
       "    <tr style=\"text-align: right;\">\n",
       "      <th></th>\n",
       "      <th>day</th>\n",
       "      <th>outlook</th>\n",
       "      <th>temp</th>\n",
       "      <th>humidity</th>\n",
       "      <th>wind</th>\n",
       "      <th>play</th>\n",
       "    </tr>\n",
       "  </thead>\n",
       "  <tbody>\n",
       "    <tr>\n",
       "      <th>3</th>\n",
       "      <td>D4</td>\n",
       "      <td>Rain</td>\n",
       "      <td>Mild</td>\n",
       "      <td>High</td>\n",
       "      <td>Weak</td>\n",
       "      <td>Yes</td>\n",
       "    </tr>\n",
       "    <tr>\n",
       "      <th>4</th>\n",
       "      <td>D5</td>\n",
       "      <td>Rain</td>\n",
       "      <td>Cool</td>\n",
       "      <td>Normal</td>\n",
       "      <td>Weak</td>\n",
       "      <td>Yes</td>\n",
       "    </tr>\n",
       "    <tr>\n",
       "      <th>9</th>\n",
       "      <td>D10</td>\n",
       "      <td>Rain</td>\n",
       "      <td>Mild</td>\n",
       "      <td>Normal</td>\n",
       "      <td>Weak</td>\n",
       "      <td>Yes</td>\n",
       "    </tr>\n",
       "  </tbody>\n",
       "</table>\n",
       "</div>"
      ],
      "text/plain": [
       "   day outlook  temp humidity  wind play\n",
       "3   D4    Rain  Mild     High  Weak  Yes\n",
       "4   D5    Rain  Cool   Normal  Weak  Yes\n",
       "9  D10    Rain  Mild   Normal  Weak  Yes"
      ]
     },
     "execution_count": 305,
     "metadata": {},
     "output_type": "execute_result"
    }
   ],
   "source": [
    "df5 = df2[df2['wind']=='Weak']\n",
    "df5"
   ]
  },
  {
   "cell_type": "code",
   "execution_count": 306,
   "metadata": {
    "execution": {
     "iopub.execute_input": "2021-01-22T08:15:39.533754Z",
     "iopub.status.busy": "2021-01-22T08:15:39.533124Z",
     "iopub.status.idle": "2021-01-22T08:15:39.544277Z",
     "shell.execute_reply": "2021-01-22T08:15:39.544886Z"
    },
    "papermill": {
     "duration": 0.074205,
     "end_time": "2021-01-22T08:15:39.545014",
     "exception": false,
     "start_time": "2021-01-22T08:15:39.470809",
     "status": "completed"
    },
    "tags": []
   },
   "outputs": [
    {
     "data": {
      "text/html": [
       "<div>\n",
       "<style scoped>\n",
       "    .dataframe tbody tr th:only-of-type {\n",
       "        vertical-align: middle;\n",
       "    }\n",
       "\n",
       "    .dataframe tbody tr th {\n",
       "        vertical-align: top;\n",
       "    }\n",
       "\n",
       "    .dataframe thead th {\n",
       "        text-align: right;\n",
       "    }\n",
       "</style>\n",
       "<table border=\"1\" class=\"dataframe\">\n",
       "  <thead>\n",
       "    <tr style=\"text-align: right;\">\n",
       "      <th></th>\n",
       "      <th>day</th>\n",
       "      <th>outlook</th>\n",
       "      <th>temp</th>\n",
       "      <th>humidity</th>\n",
       "      <th>wind</th>\n",
       "      <th>play</th>\n",
       "    </tr>\n",
       "  </thead>\n",
       "  <tbody>\n",
       "    <tr>\n",
       "      <th>5</th>\n",
       "      <td>D6</td>\n",
       "      <td>Rain</td>\n",
       "      <td>Cool</td>\n",
       "      <td>Normal</td>\n",
       "      <td>Strong</td>\n",
       "      <td>No</td>\n",
       "    </tr>\n",
       "    <tr>\n",
       "      <th>13</th>\n",
       "      <td>D14</td>\n",
       "      <td>Rain</td>\n",
       "      <td>Mild</td>\n",
       "      <td>High</td>\n",
       "      <td>Strong</td>\n",
       "      <td>No</td>\n",
       "    </tr>\n",
       "  </tbody>\n",
       "</table>\n",
       "</div>"
      ],
      "text/plain": [
       "    day outlook  temp humidity    wind play\n",
       "5    D6    Rain  Cool   Normal  Strong   No\n",
       "13  D14    Rain  Mild     High  Strong   No"
      ]
     },
     "execution_count": 306,
     "metadata": {},
     "output_type": "execute_result"
    }
   ],
   "source": [
    "df6 = df2[df2['wind']=='Strong']\n",
    "df6"
   ]
  },
  {
   "cell_type": "code",
   "execution_count": 307,
   "metadata": {
    "papermill": {
     "duration": 0.063488,
     "end_time": "2021-01-22T08:15:39.670109",
     "exception": false,
     "start_time": "2021-01-22T08:15:39.606621",
     "status": "completed"
    },
    "tags": []
   },
   "outputs": [],
   "source": [
    "##creating list to store inference rule\n",
    "ol2=[root_node,'Rain',nl3[node2],'weak']"
   ]
  },
  {
   "cell_type": "markdown",
   "metadata": {},
   "source": [
    "## node 3"
   ]
  },
  {
   "cell_type": "code",
   "execution_count": 308,
   "metadata": {
    "papermill": {
     "duration": 0.060536,
     "end_time": "2021-01-22T08:15:39.793467",
     "exception": false,
     "start_time": "2021-01-22T08:15:39.732931",
     "status": "completed"
    },
    "tags": []
   },
   "outputs": [
    {
     "data": {
      "text/html": [
       "<div>\n",
       "<style scoped>\n",
       "    .dataframe tbody tr th:only-of-type {\n",
       "        vertical-align: middle;\n",
       "    }\n",
       "\n",
       "    .dataframe tbody tr th {\n",
       "        vertical-align: top;\n",
       "    }\n",
       "\n",
       "    .dataframe thead th {\n",
       "        text-align: right;\n",
       "    }\n",
       "</style>\n",
       "<table border=\"1\" class=\"dataframe\">\n",
       "  <thead>\n",
       "    <tr style=\"text-align: right;\">\n",
       "      <th></th>\n",
       "      <th>day</th>\n",
       "      <th>outlook</th>\n",
       "      <th>temp</th>\n",
       "      <th>humidity</th>\n",
       "      <th>wind</th>\n",
       "      <th>play</th>\n",
       "    </tr>\n",
       "  </thead>\n",
       "  <tbody>\n",
       "    <tr>\n",
       "      <th>2</th>\n",
       "      <td>D3</td>\n",
       "      <td>Overcast</td>\n",
       "      <td>Hot</td>\n",
       "      <td>High</td>\n",
       "      <td>Weak</td>\n",
       "      <td>Yes</td>\n",
       "    </tr>\n",
       "    <tr>\n",
       "      <th>6</th>\n",
       "      <td>D7</td>\n",
       "      <td>Overcast</td>\n",
       "      <td>Cool</td>\n",
       "      <td>Normal</td>\n",
       "      <td>Strong</td>\n",
       "      <td>Yes</td>\n",
       "    </tr>\n",
       "    <tr>\n",
       "      <th>11</th>\n",
       "      <td>D12</td>\n",
       "      <td>Overcast</td>\n",
       "      <td>Mild</td>\n",
       "      <td>High</td>\n",
       "      <td>Strong</td>\n",
       "      <td>Yes</td>\n",
       "    </tr>\n",
       "    <tr>\n",
       "      <th>12</th>\n",
       "      <td>D13</td>\n",
       "      <td>Overcast</td>\n",
       "      <td>Hot</td>\n",
       "      <td>Normal</td>\n",
       "      <td>Weak</td>\n",
       "      <td>Yes</td>\n",
       "    </tr>\n",
       "  </tbody>\n",
       "</table>\n",
       "</div>"
      ],
      "text/plain": [
       "    day   outlook  temp humidity    wind play\n",
       "2    D3  Overcast   Hot     High    Weak  Yes\n",
       "6    D7  Overcast  Cool   Normal  Strong  Yes\n",
       "11  D12  Overcast  Mild     High  Strong  Yes\n",
       "12  D13  Overcast   Hot   Normal    Weak  Yes"
      ]
     },
     "execution_count": 308,
     "metadata": {},
     "output_type": "execute_result"
    }
   ],
   "source": [
    "df2 = df[df['outlook']=='Overcast']\n",
    "df2"
   ]
  },
  {
   "cell_type": "code",
   "execution_count": 309,
   "metadata": {},
   "outputs": [],
   "source": [
    "ol3=[root_node,'overcast']"
   ]
  },
  {
   "cell_type": "markdown",
   "metadata": {},
   "source": [
    "## printing output"
   ]
  },
  {
   "cell_type": "code",
   "execution_count": 310,
   "metadata": {
    "papermill": {
     "duration": 0.061737,
     "end_time": "2021-01-22T08:15:40.785691",
     "exception": false,
     "start_time": "2021-01-22T08:15:40.723954",
     "status": "completed"
    },
    "tags": []
   },
   "outputs": [
    {
     "name": "stdout",
     "output_type": "stream",
     "text": [
      "(Outlook = sunny and Humidity = normal ) or (Outlook = Rain and Wind = Wind ) or (Outlook = overcast ) "
     ]
    }
   ],
   "source": [
    "print('(',end=\"\")\n",
    "for i in range(len(ol1)-1):\n",
    "    if(i%2==0):\n",
    "        print(ol1[i],end=\" = \")\n",
    "    else:\n",
    "        print(ol1[i],end=\" and \")\n",
    "print(ol1[len(ol1)-1],end=\" ) or \")\n",
    "\n",
    "print('(',end=\"\")\n",
    "for i in range(len(ol2)-1):\n",
    "    if(i%2==0):\n",
    "        print(ol2[i],end=\" = \")\n",
    "    else:\n",
    "        print(ol2[i],end=\" and \")\n",
    "print(ol2[len(l2)-1],end=\" ) or \")\n",
    "\n",
    "print('(',end=\"\")\n",
    "for i in range(len(ol3)-1):\n",
    "    if(i%2==0):\n",
    "        print(ol3[i],end=\" = \")\n",
    "    else:\n",
    "        print(ol3[i],end=\" and \")\n",
    "print(ol3[len(ol3)-1],end=\" ) \")\n"
   ]
  },
  {
   "cell_type": "code",
   "execution_count": null,
   "metadata": {},
   "outputs": [],
   "source": []
  },
  {
   "cell_type": "code",
   "execution_count": null,
   "metadata": {},
   "outputs": [],
   "source": []
  }
 ],
 "metadata": {
  "kernelspec": {
   "display_name": "Python 3 (ipykernel)",
   "language": "python",
   "name": "python3"
  },
  "language_info": {
   "codemirror_mode": {
    "name": "ipython",
    "version": 3
   },
   "file_extension": ".py",
   "mimetype": "text/x-python",
   "name": "python",
   "nbconvert_exporter": "python",
   "pygments_lexer": "ipython3",
   "version": "3.9.7"
  },
  "papermill": {
   "duration": 12.809349,
   "end_time": "2021-01-22T08:15:40.952573",
   "environment_variables": {},
   "exception": null,
   "input_path": "__notebook__.ipynb",
   "output_path": "__notebook__.ipynb",
   "parameters": {},
   "start_time": "2021-01-22T08:15:28.143224",
   "version": "2.1.0"
  }
 },
 "nbformat": 4,
 "nbformat_minor": 4
}
